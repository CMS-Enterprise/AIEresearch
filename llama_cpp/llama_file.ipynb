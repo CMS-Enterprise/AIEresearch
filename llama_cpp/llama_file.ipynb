{
 "cells": [
  {
   "cell_type": "markdown",
   "metadata": {},
   "source": [
    "# LlamaFile"
   ]
  },
  {
   "attachments": {},
   "cell_type": "markdown",
   "metadata": {},
   "source": [
    "## Resources\n",
    "\n",
    "* https://justine.lol/oneliners/"
   ]
  },
  {
   "attachments": {},
   "cell_type": "markdown",
   "metadata": {},
   "source": [
    "```\n",
    "wget https://huggingface.co/jartine/llava-v1.5-7B-GGUF/resolve/main/llava-v1.5-7b-q4.llamafile\n",
    "\n",
    "chmod +x llava-v1.5-7b-q4.llamafile\n",
    "\n",
    "wget https://justine.lol/oneliners/lemurs.jpg\n",
    "\n",
    "./llava-v1.5-7b-q4.llamafile --cli \\\n",
    "    --image lemurs.jpg --temp 0 \\\n",
    "    -e -p '### User: What do you see?\\n### Assistant:' \\\n",
    "    --silent-prompt 2>/dev/null\n",
    "\n",
    "wget https://huggingface.co/jartine/Mistral-7B-Instruct-v0.2-llamafile/resolve/main/mistral-7b-instruct-v0.2.Q5_K_M.llamafile\n",
    "\n",
    "chmod +x mistral-7b-instruct-v0.2.Q5_K_M.llamafile\n",
    "\n",
    "sudo yum install git\n",
    "\n",
    "git clone https://github.com/Mozilla-Ocho/llamafile/\n",
    "cd llamafile\n",
    "make -j8\n",
    "sudo make install\n",
    "man llamafile\n",
    "\n",
    "\n",
    "llamafile -m mistral-7b-instruct-v0.2-code-ft.Q5_K_M.gguf -p '\n",
    "The following is a conversation between a Researcher and their helpful AI assistant Digital Athena which is a large language model trained on the sum of human knowledge.\n",
    "Researcher: Good morning.\n",
    "Digital Athena: How can I help you today?\n",
    "Researcher:' --interactive --color --batch_size 1024 --ctx_size 4096 \\\n",
    "--keep -1 --temp 0 --mirostat 2 --in-prefix ' ' --interactive-first \\\n",
    "--in-suffix 'Digital Athena:' --reverse-prompt 'Researcher:'\n",
    "\n",
    "```"
   ]
  }
 ],
 "metadata": {
  "kernelspec": {
   "display_name": ".venv_dev311",
   "language": "python",
   "name": "python3"
  },
  "language_info": {
   "codemirror_mode": {
    "name": "ipython",
    "version": 3
   },
   "file_extension": ".py",
   "mimetype": "text/x-python",
   "name": "python",
   "nbconvert_exporter": "python",
   "pygments_lexer": "ipython3",
   "version": "3.11.7"
  },
  "orig_nbformat": 4
 },
 "nbformat": 4,
 "nbformat_minor": 2
}
