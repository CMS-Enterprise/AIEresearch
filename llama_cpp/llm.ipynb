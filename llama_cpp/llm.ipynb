{
 "cells": [
  {
   "attachments": {},
   "cell_type": "markdown",
   "metadata": {},
   "source": [
    "# LLM\n",
    "\n",
    "> Requires `llama-cpp-python`"
   ]
  },
  {
   "attachments": {},
   "cell_type": "markdown",
   "metadata": {},
   "source": [
    "## Resources\n",
    "\n",
    "* https://llm.datasette.io/en/stable/other-models.html#installing-and-using-a-local-model\n",
    "* https://llm.datasette.io/en/stable/\n",
    "* https://news.ycombinator.com/item?id=39125477\n",
    "* https://github.com/simonw/llm-llama-cpp\n",
    "https://github.com/simonw/llm-llama-cpp"
   ]
  },
  {
   "attachments": {},
   "cell_type": "markdown",
   "metadata": {},
   "source": [
    "```\n",
    "pip install llm\n",
    "llm install llm-llama-cpp\n",
    "\n",
    "llm llama-cpp download-model \\\n",
    "  'https://huggingface.co/TheBloke/CodeLlama-13B-Python-GGUF/resolve/main/codellama-13b-python.Q5_K_M.gguf'\\\n",
    "  -a llama2-python-13b --llama2-chat\n",
    "```"
   ]
  },
  {
   "cell_type": "code",
   "execution_count": null,
   "metadata": {},
   "outputs": [],
   "source": [
    "!llm -m mistral-7b-instruct-v0.2-code-ft.Q5_K_M.gguf 'How many parts does Medicare have?'"
   ]
  },
  {
   "cell_type": "code",
   "execution_count": 1,
   "metadata": {},
   "outputs": [
    {
     "name": "stdout",
     "output_type": "stream",
     "text": [
      "llama_cpp not installed, install with: pip install llama-cpp-python\n",
      "Error: 'gguf' is not a known model\n"
     ]
    }
   ],
   "source": [
    "!llm -m gguf -o path mistral-7b-instruct-v0.2-code-ft.Q5_K_M.gguf  'Instruction: How many parts does Medicare have? Response:'"
   ]
  }
 ],
 "metadata": {
  "kernelspec": {
   "display_name": ".venv_dev311",
   "language": "python",
   "name": "python3"
  },
  "language_info": {
   "codemirror_mode": {
    "name": "ipython",
    "version": 3
   },
   "file_extension": ".py",
   "mimetype": "text/x-python",
   "name": "python",
   "nbconvert_exporter": "python",
   "pygments_lexer": "ipython3",
   "version": "3.11.7"
  },
  "orig_nbformat": 4
 },
 "nbformat": 4,
 "nbformat_minor": 2
}
